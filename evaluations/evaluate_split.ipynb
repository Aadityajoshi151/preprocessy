{
 "cells": [
  {
   "cell_type": "markdown",
   "metadata": {},
   "source": [
    "## Evaluation for Split Class\n",
    "\n",
    "- Evaluates the effect of preprocessy train test split function on model accuracy compared to sklearn train test split\n",
    "- Evaluates on 4 datasets"
   ]
  },
  {
   "cell_type": "code",
   "execution_count": 32,
   "metadata": {},
   "outputs": [],
   "source": [
    "# To access preprocessy module. Required in .ipynb files\n",
    "import os\n",
    "import sys\n",
    "module_path = os.path.abspath(os.path.join('..'))\n",
    "if module_path not in sys.path:\n",
    "    sys.path.append(module_path)"
   ]
  },
  {
   "cell_type": "code",
   "execution_count": 33,
   "metadata": {},
   "outputs": [],
   "source": [
    "import numpy as np\n",
    "import pandas as pd\n",
    "import time\n",
    "from sklearn.datasets import load_iris, load_boston, load_breast_cancer, load_diabetes\n",
    "from sklearn.linear_model import LinearRegression\n",
    "from sklearn.ensemble import RandomForestClassifier\n",
    "from sklearn.metrics import classification_report, r2_score\n",
    "from sklearn.model_selection import train_test_split\n",
    "from preprocessy.resampling import Split"
   ]
  },
  {
   "cell_type": "code",
   "execution_count": 34,
   "metadata": {},
   "outputs": [],
   "source": [
    "splits = [None, 0.2, 0.3]"
   ]
  },
  {
   "cell_type": "code",
   "execution_count": 35,
   "metadata": {},
   "outputs": [],
   "source": [
    "def preprocessy_eval(X, y, split, model):\n",
    "    X_train, X_test, y_train, y_test = Split().train_test_split(X, y, test_size=split)\n",
    "    preprocessy_test_size = None\n",
    "    if split:\n",
    "        preprocessy_test_size = split\n",
    "    else:\n",
    "        preprocessy_test_size = 1 / np.sqrt(len(X.columns))\n",
    "    model.fit(X_train, y_train)\n",
    "    preds = model.predict(X_test)\n",
    "    return preprocessy_test_size, preds, y_test"
   ]
  },
  {
   "cell_type": "code",
   "execution_count": 36,
   "metadata": {},
   "outputs": [],
   "source": [
    "def sklearn_eval(X, y, split, model):\n",
    "    X_train, X_test, y_train, y_test = train_test_split(\n",
    "        X, y, test_size=split, random_state=69\n",
    "    )\n",
    "    sklearn_test_size = None\n",
    "    if split:\n",
    "        sklearn_test_size = split\n",
    "    else:\n",
    "        sklearn_test_size = 0.25  # from sklearn docs\n",
    "    model.fit(X_train, y_train)\n",
    "    preds = model.predict(X_test)\n",
    "    return sklearn_test_size, preds, y_test"
   ]
  },
  {
   "cell_type": "code",
   "execution_count": 37,
   "metadata": {},
   "outputs": [],
   "source": [
    "def eval(X, y, dataset, model):\n",
    "    print(f\"Dataset - {dataset}\\n\")\n",
    "    for split in splits:\n",
    "        start = time.time()\n",
    "        preprocessy_test_size, preprocessy_preds, preprocessy_y_test = preprocessy_eval(\n",
    "            X, y, split, model\n",
    "        )\n",
    "        end = time.time()\n",
    "        preprocessy_time = end - start\n",
    "        start = time.time()\n",
    "        sklearn_test_size, sklearn_preds, sklearn_y_test = sklearn_eval(\n",
    "            X, y, split, model\n",
    "        )\n",
    "        end = time.time()\n",
    "        sklearn_time = end - start\n",
    "        preprocessy_accuracy = classification_report(\n",
    "            preprocessy_y_test, preprocessy_preds, output_dict=True\n",
    "        )[\"accuracy\"]\n",
    "        sklearn_accuracy = classification_report(\n",
    "            sklearn_y_test, sklearn_preds, output_dict=True\n",
    "        )[\"accuracy\"]\n",
    "        \n",
    "        print(\n",
    "            f\"Preprocessy\\n-----------\\n\\ntest_size - {preprocessy_test_size}\\naccuracy - {preprocessy_accuracy:.4f}\\ntime - {preprocessy_time:.4f}\\n\"\n",
    "        )\n",
    "        print(f\"Sklearn\\n-------\\n\\ntest_size - {sklearn_test_size}\\naccuracy - {sklearn_accuracy:.4f}\\ntime - {sklearn_time:.4f}\\n\")\n"
   ]
  },
  {
   "cell_type": "code",
   "execution_count": 38,
   "metadata": {},
   "outputs": [],
   "source": [
    "def evaluate_on_iris():\n",
    "    model = RandomForestClassifier()\n",
    "    X, y = load_iris(return_X_y=True, as_frame=True)\n",
    "    eval(X, y, \"iris\", model)"
   ]
  },
  {
   "cell_type": "code",
   "execution_count": 39,
   "metadata": {},
   "outputs": [],
   "source": [
    "def evaluate_on_breast_cancer():\n",
    "    model = RandomForestClassifier()\n",
    "    X, y = load_breast_cancer(return_X_y=True, as_frame=True)\n",
    "    eval(X, y, \"breast cancer\", model)"
   ]
  },
  {
   "cell_type": "code",
   "execution_count": 40,
   "metadata": {},
   "outputs": [],
   "source": [
    "def evaluate_on_diabetes():\n",
    "    print(f\"Dataset - diabetes\")\n",
    "    model = LinearRegression(fit_intercept=True, normalize=True, copy_X=True)\n",
    "    X, y = load_diabetes(return_X_y=True, as_frame=True)\n",
    "    for split in splits:\n",
    "        start = time.time()\n",
    "        preprocessy_test_size, preprocessy_preds, preprocessy_y_test = preprocessy_eval(\n",
    "            X, y, split, model\n",
    "        )\n",
    "        end = time.time()\n",
    "        preprocessy_time = end - start\n",
    "        start = time.time()\n",
    "        sklearn_test_size, sklearn_preds, sklearn_y_test = sklearn_eval(\n",
    "            X, y, split, model\n",
    "        )\n",
    "        end = time.time()\n",
    "        sklearn_time = end - start\n",
    "        preprocessy_accuracy = r2_score(preprocessy_y_test, preprocessy_preds)\n",
    "        sklearn_accuracy = r2_score(sklearn_y_test, sklearn_preds)\n",
    "        print(\n",
    "            f\"Preprocessy\\n-----------\\n\\ntest_size - {preprocessy_test_size}\\naccuracy - {preprocessy_accuracy:.4f}\\ntime - {preprocessy_time:.4f}\\n\"\n",
    "        )\n",
    "        print(f\"Sklearn\\n-------\\n\\ntest_size - {sklearn_test_size}\\naccuracy - {sklearn_accuracy:.4f}\\ntime - {sklearn_time:.4f}\\n\")"
   ]
  },
  {
   "cell_type": "code",
   "execution_count": 41,
   "metadata": {},
   "outputs": [],
   "source": [
    "def evaluate_on_boston():\n",
    "    print(f\"Dataset - boston\")\n",
    "    model = LinearRegression(fit_intercept=True, normalize=True, copy_X=True)\n",
    "    dataset = load_boston()\n",
    "    X = pd.DataFrame(dataset.data, columns=dataset.feature_names)\n",
    "    y = pd.Series(dataset.target, name=\"Target\")\n",
    "    for split in splits:\n",
    "        start = time.time()\n",
    "        preprocessy_test_size, preprocessy_preds, preprocessy_y_test = preprocessy_eval(\n",
    "            X, y, split, model\n",
    "        )\n",
    "        end = time.time()\n",
    "        preprocessy_time = end - start\n",
    "        start = time.time()\n",
    "        sklearn_test_size, sklearn_preds, sklearn_y_test = sklearn_eval(\n",
    "            X, y, split, model\n",
    "        )\n",
    "        end = time.time()\n",
    "        sklearn_time = end - start\n",
    "        preprocessy_accuracy = r2_score(preprocessy_y_test, preprocessy_preds)\n",
    "        sklearn_accuracy = r2_score(sklearn_y_test, sklearn_preds)\n",
    "        \n",
    "        print(\n",
    "            f\"Preprocessy\\n-----------\\n\\ntest_size - {preprocessy_test_size}\\naccuracy - {preprocessy_accuracy:.4f}\\ntime - {preprocessy_time:.4f}\\n\"\n",
    "        )\n",
    "        print(f\"Sklearn\\n-------\\n\\ntest_size - {sklearn_test_size}\\naccuracy - {sklearn_accuracy:.4f}\\ntime - {sklearn_time:.4f}\\n\")"
   ]
  },
  {
   "cell_type": "code",
   "execution_count": 42,
   "metadata": {},
   "outputs": [
    {
     "name": "stdout",
     "output_type": "stream",
     "text": [
      "Dataset - iris\n",
      "\n",
      "Preprocessy\n",
      "-----------\n",
      "\n",
      "test_size - 0.5\n",
      "accuracy - 0.9600\n",
      "time - 0.1451\n",
      "\n",
      "Sklearn\n",
      "-------\n",
      "\n",
      "test_size - 0.25\n",
      "accuracy - 0.9737\n",
      "time - 0.1307\n",
      "\n",
      "Preprocessy\n",
      "-----------\n",
      "\n",
      "test_size - 0.2\n",
      "accuracy - 0.9667\n",
      "time - 0.1249\n",
      "\n",
      "Sklearn\n",
      "-------\n",
      "\n",
      "test_size - 0.2\n",
      "accuracy - 0.9667\n",
      "time - 0.1285\n",
      "\n",
      "Preprocessy\n",
      "-----------\n",
      "\n",
      "test_size - 0.3\n",
      "accuracy - 0.9778\n",
      "time - 0.1223\n",
      "\n",
      "Sklearn\n",
      "-------\n",
      "\n",
      "test_size - 0.3\n",
      "accuracy - 0.9778\n",
      "time - 0.1292\n",
      "\n"
     ]
    }
   ],
   "source": [
    "evaluate_on_iris()"
   ]
  },
  {
   "cell_type": "code",
   "execution_count": 43,
   "metadata": {},
   "outputs": [
    {
     "name": "stdout",
     "output_type": "stream",
     "text": [
      "Dataset - breast cancer\n",
      "\n",
      "Preprocessy\n",
      "-----------\n",
      "\n",
      "test_size - 0.18257418583505536\n",
      "accuracy - 0.9515\n",
      "time - 0.1899\n",
      "\n",
      "Sklearn\n",
      "-------\n",
      "\n",
      "test_size - 0.25\n",
      "accuracy - 0.9650\n",
      "time - 0.1732\n",
      "\n",
      "Preprocessy\n",
      "-----------\n",
      "\n",
      "test_size - 0.2\n",
      "accuracy - 0.9469\n",
      "time - 0.1711\n",
      "\n",
      "Sklearn\n",
      "-------\n",
      "\n",
      "test_size - 0.2\n",
      "accuracy - 0.9474\n",
      "time - 0.2014\n",
      "\n",
      "Preprocessy\n",
      "-----------\n",
      "\n",
      "test_size - 0.3\n",
      "accuracy - 0.9706\n",
      "time - 0.2178\n",
      "\n",
      "Sklearn\n",
      "-------\n",
      "\n",
      "test_size - 0.3\n",
      "accuracy - 0.9474\n",
      "time - 0.2177\n",
      "\n"
     ]
    }
   ],
   "source": [
    "evaluate_on_breast_cancer()"
   ]
  },
  {
   "cell_type": "code",
   "execution_count": 44,
   "metadata": {},
   "outputs": [
    {
     "name": "stdout",
     "output_type": "stream",
     "text": [
      "Dataset - diabetes\n",
      "Preprocessy\n",
      "-----------\n",
      "\n",
      "test_size - 0.31622776601683794\n",
      "accuracy - 0.4350\n",
      "time - 0.0049\n",
      "\n",
      "Sklearn\n",
      "-------\n",
      "\n",
      "test_size - 0.25\n",
      "accuracy - 0.4405\n",
      "time - 0.0034\n",
      "\n",
      "Preprocessy\n",
      "-----------\n",
      "\n",
      "test_size - 0.2\n",
      "accuracy - 0.5065\n",
      "time - 0.0070\n",
      "\n",
      "Sklearn\n",
      "-------\n",
      "\n",
      "test_size - 0.2\n",
      "accuracy - 0.5145\n",
      "time - 0.0072\n",
      "\n",
      "Preprocessy\n",
      "-----------\n",
      "\n",
      "test_size - 0.3\n",
      "accuracy - 0.4482\n",
      "time - 0.0070\n",
      "\n",
      "Sklearn\n",
      "-------\n",
      "\n",
      "test_size - 0.3\n",
      "accuracy - 0.4509\n",
      "time - 0.0039\n",
      "\n"
     ]
    }
   ],
   "source": [
    "evaluate_on_diabetes()"
   ]
  },
  {
   "cell_type": "code",
   "execution_count": 45,
   "metadata": {},
   "outputs": [
    {
     "name": "stdout",
     "output_type": "stream",
     "text": [
      "Dataset - boston\n",
      "Preprocessy\n",
      "-----------\n",
      "\n",
      "test_size - 0.2773500981126146\n",
      "accuracy - 0.6891\n",
      "time - 0.0153\n",
      "\n",
      "Sklearn\n",
      "-------\n",
      "\n",
      "test_size - 0.25\n",
      "accuracy - 0.6722\n",
      "time - 0.0066\n",
      "\n",
      "Preprocessy\n",
      "-----------\n",
      "\n",
      "test_size - 0.2\n",
      "accuracy - 0.6752\n",
      "time - 0.0074\n",
      "\n",
      "Sklearn\n",
      "-------\n",
      "\n",
      "test_size - 0.2\n",
      "accuracy - 0.6747\n",
      "time - 0.0035\n",
      "\n",
      "Preprocessy\n",
      "-----------\n",
      "\n",
      "test_size - 0.3\n",
      "accuracy - 0.6755\n",
      "time - 0.0054\n",
      "\n",
      "Sklearn\n",
      "-------\n",
      "\n",
      "test_size - 0.3\n",
      "accuracy - 0.6927\n",
      "time - 0.0053\n",
      "\n"
     ]
    }
   ],
   "source": [
    "evaluate_on_boston()"
   ]
  },
  {
   "cell_type": "code",
   "execution_count": null,
   "metadata": {},
   "outputs": [],
   "source": []
  }
 ],
 "metadata": {
  "kernelspec": {
   "display_name": "Python 3",
   "language": "python",
   "name": "python3"
  },
  "language_info": {
   "codemirror_mode": {
    "name": "ipython",
    "version": 3
   },
   "file_extension": ".py",
   "mimetype": "text/x-python",
   "name": "python",
   "nbconvert_exporter": "python",
   "pygments_lexer": "ipython3",
   "version": "3.8.5"
  }
 },
 "nbformat": 4,
 "nbformat_minor": 4
}
