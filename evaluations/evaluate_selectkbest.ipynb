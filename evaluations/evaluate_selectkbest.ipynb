{
 "cells": [
  {
   "cell_type": "code",
   "execution_count": 1,
   "metadata": {},
   "outputs": [],
   "source": [
    "# To access preprocessy module. Required in .ipynb files\n",
    "import os\n",
    "import sys\n",
    "module_path = os.path.abspath(os.path.join('..'))\n",
    "if module_path not in sys.path:\n",
    "    sys.path.append(module_path)"
   ]
  },
  {
   "cell_type": "code",
   "execution_count": 2,
   "metadata": {},
   "outputs": [],
   "source": [
    "import numpy as np\n",
    "import pandas as pd\n",
    "import time\n",
    "from random import randint\n",
    "from sklearn.datasets import make_classification\n",
    "from sklearn.feature_selection import chi2, mutual_info_classif, mutual_info_regression\n",
    "from sklearn.ensemble import RandomForestClassifier\n",
    "from sklearn.metrics import classification_report\n",
    "from preprocessy.feature_selection import Correlation,SelectKBest\n",
    "from preprocessy.resampling import Split"
   ]
  },
  {
   "cell_type": "code",
   "execution_count": 3,
   "metadata": {},
   "outputs": [],
   "source": [
    "def without_preprocessing(X,y):\n",
    "    start = time.time()\n",
    "    model = RandomForestClassifier()\n",
    "    X_train, X_test, y_train, y_test = Split().train_test_split(X, y, test_size=0.1)\n",
    "    model.fit(X_train, y_train)\n",
    "    preds = model.predict(X_test)\n",
    "    accuracy_1 = classification_report(y_test,preds,output_dict=True)[\"accuracy\"]\n",
    "    end = time.time()-start\n",
    "    return accuracy_1, end"
   ]
  },
  {
   "cell_type": "code",
   "execution_count": 4,
   "metadata": {},
   "outputs": [],
   "source": [
    "def post_preprocessing(X,y,score_func=None):\n",
    "    kbest = SelectKBest(k=40)\n",
    "    X_new = kbest.fit_transform(X,y)\n",
    "    start = time.time()\n",
    "    model = RandomForestClassifier()\n",
    "    X_train, X_test, y_train, y_test = Split().train_test_split(X_new, y, test_size=0.1)\n",
    "    model.fit(X_train, y_train)\n",
    "    preds = model.predict(X_test)\n",
    "    accuracy_2 = classification_report(y_test,preds,output_dict=True)[\"accuracy\"]\n",
    "    end = time.time()-start\n",
    "    return accuracy_2, end"
   ]
  },
  {
   "cell_type": "code",
   "execution_count": 5,
   "metadata": {},
   "outputs": [],
   "source": [
    "o_acc, o_time, u_acc, u_time = 0,0,0,0"
   ]
  },
  {
   "cell_type": "code",
   "execution_count": 6,
   "metadata": {},
   "outputs": [],
   "source": [
    "for _ in range(100):\n",
    "    X_class, y_class = make_classification(n_samples=randint(1000,10000), n_features=randint(50,100))\n",
    "    X_class = pd.DataFrame(X_class)\n",
    "    y_class = pd.Series(y_class,name='Target')\n",
    "    a,e = without_preprocessing(X_class,y_class)\n",
    "    o_acc += a\n",
    "    o_time += e\n",
    "    a,e = post_preprocessing(X_class,y_class)\n",
    "    u_acc += a\n",
    "    u_time += e"
   ]
  },
  {
   "cell_type": "code",
   "execution_count": 7,
   "metadata": {},
   "outputs": [
    {
     "name": "stdout",
     "output_type": "stream",
     "text": [
      "Without Preprocessing\n",
      "\n",
      "Accuracy - 0.9296\n",
      "Time - 3.5947\n",
      "\n",
      "Post Preprocessing\n",
      "\n",
      "Accuracy - 0.9291\n",
      "Time - 2.4966\n"
     ]
    }
   ],
   "source": [
    "print(f\"Without Preprocessing\\n\\nAccuracy - {(o_acc/100):.4f}\\nTime - {(o_time/100):.4f}\\n\")\n",
    "print(f\"Post Preprocessing\\n\\nAccuracy - {(u_acc/100):.4f}\\nTime - {(u_time/100):.4f}\")"
   ]
  },
  {
   "cell_type": "code",
   "execution_count": null,
   "metadata": {},
   "outputs": [],
   "source": []
  }
 ],
 "metadata": {
  "kernelspec": {
   "display_name": "Python 3",
   "language": "python",
   "name": "python3"
  },
  "language_info": {
   "codemirror_mode": {
    "name": "ipython",
    "version": 3
   },
   "file_extension": ".py",
   "mimetype": "text/x-python",
   "name": "python",
   "nbconvert_exporter": "python",
   "pygments_lexer": "ipython3",
   "version": "3.8.5"
  }
 },
 "nbformat": 4,
 "nbformat_minor": 4
}
